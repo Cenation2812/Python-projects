{
  "nbformat": 4,
  "nbformat_minor": 0,
  "metadata": {
    "colab": {
      "name": "YT downloader.ipynb",
      "provenance": []
    },
    "kernelspec": {
      "name": "python3",
      "display_name": "Python 3"
    }
  },
  "cells": [
    {
      "cell_type": "markdown",
      "metadata": {
        "id": "Lmu3BFVdXLrP"
      },
      "source": [
        "YouTube downloader"
      ]
    },
    {
      "cell_type": "code",
      "metadata": {
        "colab": {
          "base_uri": "https://localhost:8080/"
        },
        "id": "q16DZAQBXJY7",
        "outputId": "c55707b9-2f24-4145-9015-dad7d8dae49d"
      },
      "source": [
        "!pip install pytube"
      ],
      "execution_count": 2,
      "outputs": [
        {
          "output_type": "stream",
          "text": [
            "Collecting pytube\n",
            "\u001b[?25l  Downloading https://files.pythonhosted.org/packages/98/fe/ab5c42a4be08d302d11e228bd5c4a63c1cb2fce9041881f8f9ef9a1fe34e/pytube-10.5.3-py3-none-any.whl (42kB)\n",
            "\r\u001b[K     |███████▋                        | 10kB 13.1MB/s eta 0:00:01\r\u001b[K     |███████████████▎                | 20kB 17.9MB/s eta 0:00:01\r\u001b[K     |███████████████████████         | 30kB 11.5MB/s eta 0:00:01\r\u001b[K     |██████████████████████████████▋ | 40kB 10.2MB/s eta 0:00:01\r\u001b[K     |████████████████████████████████| 51kB 3.1MB/s \n",
            "\u001b[?25hRequirement already satisfied: typing-extensions in /usr/local/lib/python3.7/dist-packages (from pytube) (3.7.4.3)\n",
            "Installing collected packages: pytube\n",
            "Successfully installed pytube-10.5.3\n"
          ],
          "name": "stdout"
        }
      ]
    },
    {
      "cell_type": "code",
      "metadata": {
        "id": "eC0UB15JXVSF"
      },
      "source": [
        "import pytube"
      ],
      "execution_count": 3,
      "outputs": []
    },
    {
      "cell_type": "code",
      "metadata": {
        "colab": {
          "base_uri": "https://localhost:8080/"
        },
        "id": "rD0NeLtEX-lo",
        "outputId": "8aef72f1-78f2-4bf3-993b-c4cb8991195c"
      },
      "source": [
        "!pip install git+https://github.com/pytube/pytube"
      ],
      "execution_count": 4,
      "outputs": [
        {
          "output_type": "stream",
          "text": [
            "Collecting git+https://github.com/pytube/pytube\n",
            "  Cloning https://github.com/pytube/pytube to /tmp/pip-req-build-3eewvyg6\n",
            "  Running command git clone -q https://github.com/pytube/pytube /tmp/pip-req-build-3eewvyg6\n",
            "Requirement already satisfied (use --upgrade to upgrade): pytube==10.5.3 from git+https://github.com/pytube/pytube in /usr/local/lib/python3.7/dist-packages\n",
            "Requirement already satisfied: typing_extensions in /usr/local/lib/python3.7/dist-packages (from pytube==10.5.3) (3.7.4.3)\n",
            "Building wheels for collected packages: pytube\n",
            "  Building wheel for pytube (setup.py) ... \u001b[?25l\u001b[?25hdone\n",
            "  Created wheel for pytube: filename=pytube-10.5.3-cp37-none-any.whl size=42794 sha256=2a41fb1e5bbe30d36f3723546d960e00c4554220f827b8f7b28b599a4bdcee77\n",
            "  Stored in directory: /tmp/pip-ephem-wheel-cache-7hpn9e35/wheels/34/e9/71/12f7c6e92a0a5268282057371c9caa69c07dafc0ccb917099d\n",
            "Successfully built pytube\n"
          ],
          "name": "stdout"
        }
      ]
    },
    {
      "cell_type": "code",
      "metadata": {
        "id": "wQF0tIA8YDUY"
      },
      "source": [
        "from pytube import YouTube"
      ],
      "execution_count": 10,
      "outputs": []
    },
    {
      "cell_type": "code",
      "metadata": {
        "id": "Nnwk1L0NYdjL"
      },
      "source": [
        "videoUrl= \"https://www.youtube.com/watch?v=Z_-lSJg52NU\""
      ],
      "execution_count": 11,
      "outputs": []
    },
    {
      "cell_type": "code",
      "metadata": {
        "id": "BTkDF4YpaYGh"
      },
      "source": [
        "yt=YouTube(videoUrl)"
      ],
      "execution_count": 12,
      "outputs": []
    },
    {
      "cell_type": "code",
      "metadata": {
        "colab": {
          "base_uri": "https://localhost:8080/",
          "height": 35
        },
        "id": "AVBrtWRFabto",
        "outputId": "907c3cde-8e7b-42b5-8364-9d8ab6417fbe"
      },
      "source": [
        "yt.streams.first().download()"
      ],
      "execution_count": 15,
      "outputs": [
        {
          "output_type": "execute_result",
          "data": {
            "application/vnd.google.colaboratory.intrinsic+json": {
              "type": "string"
            },
            "text/plain": [
              "'/content/Namo Namo - Full Audio  Kedarnath  Sushant Rajput  Sara Ali Khan  Amit Trivedi  Amitabh B.mp4'"
            ]
          },
          "metadata": {
            "tags": []
          },
          "execution_count": 15
        }
      ]
    },
    {
      "cell_type": "code",
      "metadata": {
        "id": "qsLa-khTaedq"
      },
      "source": [
        ""
      ],
      "execution_count": null,
      "outputs": []
    }
  ]
}