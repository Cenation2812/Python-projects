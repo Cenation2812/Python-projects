{
  "nbformat": 4,
  "nbformat_minor": 0,
  "metadata": {
    "colab": {
      "name": "doubt1.ipynb",
      "provenance": [],
      "collapsed_sections": [],
      "authorship_tag": "ABX9TyPI9z89jTUM1y9W5VVHUhbu",
      "include_colab_link": true
    },
    "kernelspec": {
      "name": "python3",
      "display_name": "Python 3"
    },
    "language_info": {
      "name": "python"
    }
  },
  "cells": [
    {
      "cell_type": "markdown",
      "metadata": {
        "id": "view-in-github",
        "colab_type": "text"
      },
      "source": [
        "<a href=\"https://colab.research.google.com/github/Cenation2812/Python-projects/blob/main/doubt1.ipynb\" target=\"_parent\"><img src=\"https://colab.research.google.com/assets/colab-badge.svg\" alt=\"Open In Colab\"/></a>"
      ]
    },
    {
      "cell_type": "code",
      "metadata": {
        "id": "pDB8L3NaizIx"
      },
      "source": [
        "# doubt session 1"
      ],
      "execution_count": null,
      "outputs": []
    },
    {
      "cell_type": "code",
      "metadata": {
        "colab": {
          "base_uri": "https://localhost:8080/"
        },
        "id": "nQ0yWHkVldz8",
        "outputId": "413acb11-6060-4c5f-e13c-f2a2478ff2c1"
      },
      "source": [
        "n = int(input(\"Enter the range:\"))"
      ],
      "execution_count": 2,
      "outputs": [
        {
          "output_type": "stream",
          "text": [
            "Enter the range:20\n"
          ],
          "name": "stdout"
        }
      ]
    },
    {
      "cell_type": "code",
      "metadata": {
        "id": "WTgtZfrezbPZ",
        "colab": {
          "base_uri": "https://localhost:8080/"
        },
        "outputId": "89f56548-4b44-497c-ae54-979532202168"
      },
      "source": [
        "for i in range(n):\n",
        "  print(i)"
      ],
      "execution_count": 3,
      "outputs": [
        {
          "output_type": "stream",
          "text": [
            "0\n",
            "1\n",
            "2\n",
            "3\n",
            "4\n",
            "5\n",
            "6\n",
            "7\n",
            "8\n",
            "9\n",
            "10\n",
            "11\n",
            "12\n",
            "13\n",
            "14\n",
            "15\n",
            "16\n",
            "17\n",
            "18\n",
            "19\n"
          ],
          "name": "stdout"
        }
      ]
    },
    {
      "cell_type": "code",
      "metadata": {
        "id": "oX1SStjJlV7v"
      },
      "source": [
        "mydit = {}"
      ],
      "execution_count": 4,
      "outputs": []
    },
    {
      "cell_type": "code",
      "metadata": {
        "id": "SPVBEMSlnP4n"
      },
      "source": [
        "# The user will provide the name of the person whose contact book he/she wants to view\n"
      ],
      "execution_count": 5,
      "outputs": []
    },
    {
      "cell_type": "code",
      "metadata": {
        "colab": {
          "base_uri": "https://localhost:8080/"
        },
        "id": "qq0b3HHwnhX0",
        "outputId": "55412a8b-9d22-402b-aac3-43ab71c48423"
      },
      "source": [
        "name = input(\"Enter the name:\")\n",
        "age = int(input(\"Enter the age:\"))\n",
        "number1 = input(\"Enter number1:\")\n",
        "number2 = input(\"Enter number2:\")\n",
        "email = input(\"Enter the email id:\")\n",
        "\n",
        "contactBook = {}\n",
        "\n",
        "mydit = {\"name\":name,\"age\":age,\"number1\":number1,\"number2\":number2,\"email\":email}"
      ],
      "execution_count": 10,
      "outputs": [
        {
          "output_type": "stream",
          "text": [
            "Enter the name:Krishna\n",
            "Enter the age:30\n",
            "Enter number1:989232983\n",
            "Enter number2:9283928293\n",
            "Enter the email id:Krishna@yahoo.com\n"
          ],
          "name": "stdout"
        }
      ]
    },
    {
      "cell_type": "code",
      "metadata": {
        "colab": {
          "base_uri": "https://localhost:8080/"
        },
        "id": "pbI0z8OToiKa",
        "outputId": "93eff948-f1cb-4263-a92b-ed0d60bea31d"
      },
      "source": [
        "mydit"
      ],
      "execution_count": 11,
      "outputs": [
        {
          "output_type": "execute_result",
          "data": {
            "text/plain": [
              "{'age': 30,\n",
              " 'email': 'Krishna@yahoo.com',\n",
              " 'name': 'Krishna',\n",
              " 'number1': '989232983',\n",
              " 'number2': '9283928293'}"
            ]
          },
          "metadata": {
            "tags": []
          },
          "execution_count": 11
        }
      ]
    },
    {
      "cell_type": "code",
      "metadata": {
        "id": "_iCtxV2xotOP"
      },
      "source": [
        "contactBook[name] = mydit"
      ],
      "execution_count": 14,
      "outputs": []
    },
    {
      "cell_type": "code",
      "metadata": {
        "colab": {
          "base_uri": "https://localhost:8080/"
        },
        "id": "CdrcDxZCo4g2",
        "outputId": "5223345a-d9d8-45e8-f916-9e837d8d7e77"
      },
      "source": [
        "contactBook"
      ],
      "execution_count": 15,
      "outputs": [
        {
          "output_type": "execute_result",
          "data": {
            "text/plain": [
              "{'Krishna': {'age': 30,\n",
              "  'email': 'Krishna@yahoo.com',\n",
              "  'name': 'Krishna',\n",
              "  'number1': '989232983',\n",
              "  'number2': '9283928293'},\n",
              " 'Krishna@yahoo.com': {'age': 30,\n",
              "  'email': 'Krishna@yahoo.com',\n",
              "  'name': 'Krishna',\n",
              "  'number1': '989232983',\n",
              "  'number2': '9283928293'}}"
            ]
          },
          "metadata": {
            "tags": []
          },
          "execution_count": 15
        }
      ]
    },
    {
      "cell_type": "code",
      "metadata": {
        "id": "rgGJ6_KVo55Z"
      },
      "source": [
        ""
      ],
      "execution_count": null,
      "outputs": []
    }
  ]
}