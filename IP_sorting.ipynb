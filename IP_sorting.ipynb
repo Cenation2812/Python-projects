{
  "nbformat": 4,
  "nbformat_minor": 0,
  "metadata": {
    "colab": {
      "name": "IP sorting.ipynb",
      "provenance": []
    },
    "kernelspec": {
      "name": "python3",
      "display_name": "Python 3"
    },
    "language_info": {
      "name": "python"
    }
  },
  "cells": [
    {
      "cell_type": "code",
      "metadata": {
        "colab": {
          "base_uri": "https://localhost:8080/"
        },
        "id": "wAJhsiqJOD1q",
        "outputId": "d023d80a-e586-48ac-cf7d-a3aaa0673c61"
      },
      "source": [
        "lst=[\"192.168.0.09\",\"192.168.0.10\",\"192.168.0.15\",\"192.168.0.8\"]\n",
        "def fun(x):\n",
        "  num=int(x[10:])\n",
        "  return num\n",
        "\n",
        "lst.sort(key = fun)\n",
        "\n",
        "print(lst)"
      ],
      "execution_count": 6,
      "outputs": [
        {
          "output_type": "stream",
          "text": [
            "['192.168.0.8', '192.168.0.09', '192.168.0.10', '192.168.0.15']\n"
          ],
          "name": "stdout"
        }
      ]
    },
    {
      "cell_type": "code",
      "metadata": {
        "id": "ISZ8VlYbPjzS"
      },
      "source": [
        ""
      ],
      "execution_count": null,
      "outputs": []
    }
  ]
}