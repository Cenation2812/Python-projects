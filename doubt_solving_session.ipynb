{
  "nbformat": 4,
  "nbformat_minor": 0,
  "metadata": {
    "colab": {
      "name": "doubt_solving_session.ipynb",
      "provenance": [],
      "collapsed_sections": [],
      "include_colab_link": true
    },
    "kernelspec": {
      "name": "python3",
      "display_name": "Python 3"
    },
    "language_info": {
      "name": "python"
    }
  },
  "cells": [
    {
      "cell_type": "markdown",
      "metadata": {
        "id": "view-in-github",
        "colab_type": "text"
      },
      "source": [
        "<a href=\"https://colab.research.google.com/github/Cenation2812/Python-projects/blob/main/doubt_solving_session.ipynb\" target=\"_parent\"><img src=\"https://colab.research.google.com/assets/colab-badge.svg\" alt=\"Open In Colab\"/></a>"
      ]
    },
    {
      "cell_type": "code",
      "metadata": {
        "id": "pDB8L3NaizIx"
      },
      "source": [
        "# doubt session 1"
      ],
      "execution_count": null,
      "outputs": []
    },
    {
      "cell_type": "code",
      "metadata": {
        "colab": {
          "base_uri": "https://localhost:8080/"
        },
        "id": "nQ0yWHkVldz8",
        "outputId": "413acb11-6060-4c5f-e13c-f2a2478ff2c1"
      },
      "source": [
        "n = int(input(\"Enter the range:\"))"
      ],
      "execution_count": null,
      "outputs": [
        {
          "output_type": "stream",
          "text": [
            "Enter the range:20\n"
          ],
          "name": "stdout"
        }
      ]
    },
    {
      "cell_type": "code",
      "metadata": {
        "id": "WTgtZfrezbPZ",
        "colab": {
          "base_uri": "https://localhost:8080/"
        },
        "outputId": "b51a6a32-e2da-4d85-ff52-77d717cd239f"
      },
      "source": [
        "#decerementing using for loop\n",
        "for i in range(20,0,-2):\n",
        "  print(i)"
      ],
      "execution_count": null,
      "outputs": [
        {
          "output_type": "stream",
          "text": [
            "20\n",
            "18\n",
            "16\n",
            "14\n",
            "12\n",
            "10\n",
            "8\n",
            "6\n",
            "4\n",
            "2\n"
          ],
          "name": "stdout"
        }
      ]
    },
    {
      "cell_type": "code",
      "metadata": {
        "id": "oX1SStjJlV7v"
      },
      "source": [
        "mydit = {}"
      ],
      "execution_count": null,
      "outputs": []
    },
    {
      "cell_type": "code",
      "metadata": {
        "id": "SPVBEMSlnP4n"
      },
      "source": [
        "#Basic idea for contact book\n",
        "# The user will provide the name of the person whose contact book he/she wants to view\n"
      ],
      "execution_count": null,
      "outputs": []
    },
    {
      "cell_type": "code",
      "metadata": {
        "colab": {
          "base_uri": "https://localhost:8080/"
        },
        "id": "qq0b3HHwnhX0",
        "outputId": "55412a8b-9d22-402b-aac3-43ab71c48423"
      },
      "source": [
        "name = input(\"Enter the name:\")\n",
        "age = int(input(\"Enter the age:\"))\n",
        "number1 = input(\"Enter number1:\")\n",
        "number2 = input(\"Enter number2:\")\n",
        "email = input(\"Enter the email id:\")\n",
        "\n",
        "contactBook = {}\n",
        "\n",
        "mydit = {\"name\":name,\"age\":age,\"number1\":number1,\"number2\":number2,\"email\":email}"
      ],
      "execution_count": null,
      "outputs": [
        {
          "output_type": "stream",
          "text": [
            "Enter the name:Krishna\n",
            "Enter the age:30\n",
            "Enter number1:989232983\n",
            "Enter number2:9283928293\n",
            "Enter the email id:Krishna@yahoo.com\n"
          ],
          "name": "stdout"
        }
      ]
    },
    {
      "cell_type": "code",
      "metadata": {
        "colab": {
          "base_uri": "https://localhost:8080/"
        },
        "id": "pbI0z8OToiKa",
        "outputId": "93eff948-f1cb-4263-a92b-ed0d60bea31d"
      },
      "source": [
        "mydit"
      ],
      "execution_count": null,
      "outputs": [
        {
          "output_type": "execute_result",
          "data": {
            "text/plain": [
              "{'age': 30,\n",
              " 'email': 'Krishna@yahoo.com',\n",
              " 'name': 'Krishna',\n",
              " 'number1': '989232983',\n",
              " 'number2': '9283928293'}"
            ]
          },
          "metadata": {
            "tags": []
          },
          "execution_count": 11
        }
      ]
    },
    {
      "cell_type": "code",
      "metadata": {
        "id": "_iCtxV2xotOP"
      },
      "source": [
        "contactBook[name] = mydit"
      ],
      "execution_count": null,
      "outputs": []
    },
    {
      "cell_type": "code",
      "metadata": {
        "colab": {
          "base_uri": "https://localhost:8080/"
        },
        "id": "CdrcDxZCo4g2",
        "outputId": "5223345a-d9d8-45e8-f916-9e837d8d7e77"
      },
      "source": [
        "contactBook"
      ],
      "execution_count": null,
      "outputs": [
        {
          "output_type": "execute_result",
          "data": {
            "text/plain": [
              "{'Krishna': {'age': 30,\n",
              "  'email': 'Krishna@yahoo.com',\n",
              "  'name': 'Krishna',\n",
              "  'number1': '989232983',\n",
              "  'number2': '9283928293'},\n",
              " 'Krishna@yahoo.com': {'age': 30,\n",
              "  'email': 'Krishna@yahoo.com',\n",
              "  'name': 'Krishna',\n",
              "  'number1': '989232983',\n",
              "  'number2': '9283928293'}}"
            ]
          },
          "metadata": {
            "tags": []
          },
          "execution_count": 15
        }
      ]
    },
    {
      "cell_type": "code",
      "metadata": {
        "id": "wocEBDCsthSy"
      },
      "source": [
        "import random"
      ],
      "execution_count": null,
      "outputs": []
    },
    {
      "cell_type": "code",
      "metadata": {
        "id": "rgGJ6_KVo55Z"
      },
      "source": [
        "lst = [\"Moghana\",\"Jesse\",\"Shruti\",\"Harini\",\"Pravin\"]\n",
        "\n",
        "winner = random.randint(0,4)"
      ],
      "execution_count": null,
      "outputs": []
    },
    {
      "cell_type": "code",
      "metadata": {
        "colab": {
          "base_uri": "https://localhost:8080/"
        },
        "id": "wfTdqf3ztvle",
        "outputId": "d5d563fa-d47a-4d73-99c0-3fa777eba921"
      },
      "source": [
        "print(winner)"
      ],
      "execution_count": null,
      "outputs": [
        {
          "output_type": "stream",
          "text": [
            "2\n"
          ],
          "name": "stdout"
        }
      ]
    },
    {
      "cell_type": "code",
      "metadata": {
        "id": "iXMbYQZJvrjA",
        "colab": {
          "base_uri": "https://localhost:8080/"
        },
        "outputId": "353e9f29-5044-4b5f-9adc-ac7d03ea3c03"
      },
      "source": [
        "i = 10\n",
        "\n",
        "while i>=0:\n",
        "  print(i)\n",
        "  i=i-1"
      ],
      "execution_count": null,
      "outputs": [
        {
          "output_type": "stream",
          "text": [
            "10\n",
            "9\n",
            "8\n",
            "7\n",
            "6\n",
            "5\n",
            "4\n",
            "3\n",
            "2\n",
            "1\n",
            "0\n"
          ],
          "name": "stdout"
        }
      ]
    },
    {
      "cell_type": "code",
      "metadata": {
        "id": "IB6ox-9ft_UT"
      },
      "source": [
        "lst = [\"Nirmalya\",\"Ganesha\",\"Shourjadeep\",\"Rajesh\",\"Ganesha\"]"
      ],
      "execution_count": null,
      "outputs": []
    },
    {
      "cell_type": "code",
      "metadata": {
        "colab": {
          "base_uri": "https://localhost:8080/"
        },
        "id": "jbrEJBleu19v",
        "outputId": "9ad003ab-b6b1-4023-c33e-8e69cad04deb"
      },
      "source": [
        "print(lst)"
      ],
      "execution_count": null,
      "outputs": [
        {
          "output_type": "stream",
          "text": [
            "['Nirmalya', 'Ganesha', 'Shourjadeep', 'Rajesh', 'Ganesha']\n"
          ],
          "name": "stdout"
        }
      ]
    },
    {
      "cell_type": "code",
      "metadata": {
        "id": "7a4K8keuu3ze"
      },
      "source": [
        "s = set(lst)"
      ],
      "execution_count": null,
      "outputs": []
    },
    {
      "cell_type": "code",
      "metadata": {
        "colab": {
          "base_uri": "https://localhost:8080/"
        },
        "id": "qbjdEkN1vE6P",
        "outputId": "38351717-dcb0-420c-8732-70b10d542bfb"
      },
      "source": [
        "s"
      ],
      "execution_count": null,
      "outputs": [
        {
          "output_type": "execute_result",
          "data": {
            "text/plain": [
              "{'Ganesha', 'Nirmalya', 'Rajesh', 'Shourjadeep'}"
            ]
          },
          "metadata": {
            "tags": []
          },
          "execution_count": 13
        }
      ]
    },
    {
      "cell_type": "code",
      "metadata": {
        "id": "gPz1j0GWvFnx"
      },
      "source": [
        "st = {\"1\",\"2\",\"3\",\"4\",\"5\",\"1\",\"3\",\"2\",\"5\"}"
      ],
      "execution_count": null,
      "outputs": []
    },
    {
      "cell_type": "code",
      "metadata": {
        "colab": {
          "base_uri": "https://localhost:8080/"
        },
        "id": "1M-3Qj_AvdbP",
        "outputId": "63f3a4a9-3e5b-4074-d54f-5268396c20c4"
      },
      "source": [
        "print(st)"
      ],
      "execution_count": null,
      "outputs": [
        {
          "output_type": "stream",
          "text": [
            "{'5', '1', '4', '3', '2'}\n"
          ],
          "name": "stdout"
        }
      ]
    },
    {
      "cell_type": "code",
      "metadata": {
        "id": "kEuyEJG5vfIw"
      },
      "source": [
        "# prime number\n",
        "# the number which is divisible by 1 and itself is called a prime number."
      ],
      "execution_count": null,
      "outputs": []
    },
    {
      "cell_type": "code",
      "metadata": {
        "colab": {
          "base_uri": "https://localhost:8080/"
        },
        "id": "Av7W68QSwzVT",
        "outputId": "4936024d-f6ec-485c-da71-567bc394d033"
      },
      "source": [
        "count = 0\n",
        "number = int(input(\"Enter the number:\"))\n",
        "\n",
        "for i in range(1,number+1):\n",
        "  if number%i == 0:\n",
        "    count=count + 1\n",
        "\n",
        "if count == 2:\n",
        "  print(number,\" is a prime number\")\n",
        "else:\n",
        "  print(number,\" is not a prime number\")"
      ],
      "execution_count": null,
      "outputs": [
        {
          "output_type": "stream",
          "text": [
            "Enter the number:10\n",
            "10  is not a prime number\n"
          ],
          "name": "stdout"
        }
      ]
    },
    {
      "cell_type": "code",
      "metadata": {
        "id": "Tn0QEr53yB5Z"
      },
      "source": [
        "# even-odd program\n",
        "# the user will enter the number...and you have to check whether the entered number is a\n",
        "#even number or an odd number"
      ],
      "execution_count": null,
      "outputs": []
    },
    {
      "cell_type": "code",
      "metadata": {
        "id": "rDLfIsG10OWC"
      },
      "source": [
        "#lst = []\n",
        "tup = (\"1\",\"2\",\"3\",\"4\")"
      ],
      "execution_count": null,
      "outputs": []
    },
    {
      "cell_type": "code",
      "metadata": {
        "id": "2cucINSD0lzh"
      },
      "source": [
        "st = ((\"1\",\"2\",\"3\",\"3\",\"4\"))"
      ],
      "execution_count": null,
      "outputs": []
    },
    {
      "cell_type": "code",
      "metadata": {
        "colab": {
          "base_uri": "https://localhost:8080/"
        },
        "id": "Cga-t6Hf0m0z",
        "outputId": "c9ab69a1-5f60-40cb-c4be-19ad62f59322"
      },
      "source": [
        "type(st)"
      ],
      "execution_count": null,
      "outputs": [
        {
          "output_type": "execute_result",
          "data": {
            "text/plain": [
              "tuple"
            ]
          },
          "metadata": {
            "tags": []
          },
          "execution_count": 27
        }
      ]
    },
    {
      "cell_type": "markdown",
      "metadata": {
        "id": "yQyV2JLA15Kk"
      },
      "source": [
        "Link for Hackerearth\n",
        "\n",
        "https://www.hackerearth.com/practice/basic-programming/input-output/basics-of-input-output/practice-problems/1/"
      ]
    },
    {
      "cell_type": "code",
      "metadata": {
        "id": "VXpZQCml5e03",
        "colab": {
          "base_uri": "https://localhost:8080/"
        },
        "outputId": "ddee59b6-2519-4305-edb1-1e653a2ad240"
      },
      "source": [
        "n1 = int(input(\"Enter number1:\"))\n",
        "n2 = int(input(\"Enter number2:\"))\n",
        "\n",
        "try:\n",
        "  div = n1/n2\n",
        "except:\n",
        "  print(\"There is an error\")\n",
        "\n",
        "print(\"Hello\")\n",
        "\n",
        "\n"
      ],
      "execution_count": null,
      "outputs": [
        {
          "output_type": "stream",
          "text": [
            "Enter number1:12\n",
            "Enter number2:2\n",
            "Hello\n"
          ],
          "name": "stdout"
        }
      ]
    },
    {
      "cell_type": "code",
      "metadata": {
        "colab": {
          "base_uri": "https://localhost:8080/"
        },
        "id": "QSuLXZH067Cq",
        "outputId": "bc242c0c-ab26-4aa0-e7cb-04907f718583"
      },
      "source": [
        "print(div)"
      ],
      "execution_count": null,
      "outputs": [
        {
          "output_type": "stream",
          "text": [
            "6.0\n"
          ],
          "name": "stdout"
        }
      ]
    },
    {
      "cell_type": "code",
      "metadata": {
        "colab": {
          "base_uri": "https://localhost:8080/"
        },
        "id": "7Yh9DfXP6-lB",
        "outputId": "150d5b08-3f72-492c-fd24-5b09253e6392"
      },
      "source": [
        "count = 0\n",
        "num = int(input(\"Enter a number:\"))\n",
        "for i in range(1,num + 1):\n",
        "  if num % i == 0:\n",
        "    count = count+1\n",
        "    #print(num,\"is not a prime number\")\n",
        "\n",
        "if count == 2:\n",
        "  print(\"it is a prime number\")\n",
        "else:\n",
        "  print(\"It is not a prime number\")"
      ],
      "execution_count": null,
      "outputs": [
        {
          "output_type": "stream",
          "text": [
            "Enter a number:1\n",
            "It is not a prime number\n"
          ],
          "name": "stdout"
        }
      ]
    },
    {
      "cell_type": "code",
      "metadata": {
        "id": "d8xJ5AvQ9hxX"
      },
      "source": [
        "# prime number - A number which is divided by 1 and itself."
      ],
      "execution_count": null,
      "outputs": []
    }
  ]
}