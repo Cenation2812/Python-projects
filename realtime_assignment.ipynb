{
  "nbformat": 4,
  "nbformat_minor": 0,
  "metadata": {
    "colab": {
      "name": "realtime_assignment.ipynb",
      "provenance": [],
      "authorship_tag": "ABX9TyOPo/YO1r2PZqHRi5xkMdel",
      "include_colab_link": true
    },
    "kernelspec": {
      "name": "python3",
      "display_name": "Python 3"
    },
    "language_info": {
      "name": "python"
    }
  },
  "cells": [
    {
      "cell_type": "markdown",
      "metadata": {
        "id": "view-in-github",
        "colab_type": "text"
      },
      "source": [
        "<a href=\"https://colab.research.google.com/github/Cenation2812/Python-projects/blob/main/realtime_assignment.ipynb\" target=\"_parent\"><img src=\"https://colab.research.google.com/assets/colab-badge.svg\" alt=\"Open In Colab\"/></a>"
      ]
    },
    {
      "cell_type": "code",
      "metadata": {
        "id": "G1gbDsoKDxsj"
      },
      "source": [
        "dit={\"A\":\"BCD\",\"B\":\"BEF\",\"C\":\"CDE\",\"D\":\"ADC\",\"E\":\"FGA\",\"F\":\"AGB\",\"G\":\"EFG\"}"
      ],
      "execution_count": 27,
      "outputs": []
    },
    {
      "cell_type": "code",
      "metadata": {
        "colab": {
          "base_uri": "https://localhost:8080/"
        },
        "id": "ZLpH-SKnEdmn",
        "outputId": "9d6fb7ca-6033-49bd-f322-61ad1f43572f"
      },
      "source": [
        "a = input(\"Enter the first alphabet:\")\n",
        "b = input(\"Enter second alphabet:\")\n",
        "c = input(\"Enter the third alphabet:\")"
      ],
      "execution_count": 2,
      "outputs": [
        {
          "output_type": "stream",
          "text": [
            "Enter the first alphabet:A\n",
            "Enter second alphabet:C\n",
            "Enter the third alphabet:D\n"
          ],
          "name": "stdout"
        }
      ]
    },
    {
      "cell_type": "code",
      "metadata": {
        "id": "3vKfuyzAEs_r"
      },
      "source": [
        "a = a.upper()\n",
        "b = b.upper()\n",
        "c = c.upper()"
      ],
      "execution_count": 28,
      "outputs": []
    },
    {
      "cell_type": "code",
      "metadata": {
        "id": "pLtmxHLuE6Hk"
      },
      "source": [
        "def get_answer():\n",
        "  tup = ()\n",
        "  lst=[]\n",
        "  count = 0\n",
        "  for key, values in dit.items():\n",
        "    count+=1\n",
        "    if key == a:\n",
        "      for item in values:\n",
        "        if item == b or item == c:\n",
        "          tup=(a,item)\n",
        "          lst.append(tup)\n",
        "    elif key == b:\n",
        "      for item in values:\n",
        "        if item == a or item == c:\n",
        "          tup=(b,item)\n",
        "          lst.append(tup)\n",
        "    elif key == c:\n",
        "      for item in values:\n",
        "        if item == a or item == b:\n",
        "          tup=(c,item)\n",
        "          lst.append(tup)\n",
        "\n",
        "  return lst\n",
        "\n",
        "\n"
      ],
      "execution_count": 31,
      "outputs": []
    },
    {
      "cell_type": "code",
      "metadata": {
        "colab": {
          "base_uri": "https://localhost:8080/"
        },
        "id": "5vr_K1AzG8jc",
        "outputId": "21b98edb-e327-4204-d9a0-46787a33b2fe"
      },
      "source": [
        "print(get_answer())"
      ],
      "execution_count": 32,
      "outputs": [
        {
          "output_type": "stream",
          "text": [
            "[('A', 'C'), ('A', 'D'), ('C', 'D'), ('D', 'A'), ('D', 'C')]\n"
          ],
          "name": "stdout"
        }
      ]
    },
    {
      "cell_type": "code",
      "metadata": {
        "id": "1XSI8gheIKgG"
      },
      "source": [
        ""
      ],
      "execution_count": null,
      "outputs": []
    }
  ]
}