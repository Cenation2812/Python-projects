{
  "nbformat": 4,
  "nbformat_minor": 0,
  "metadata": {
    "colab": {
      "name": "Assignment4.ipynb",
      "provenance": []
    },
    "kernelspec": {
      "name": "python3",
      "display_name": "Python 3"
    },
    "language_info": {
      "name": "python"
    }
  },
  "cells": [
    {
      "cell_type": "code",
      "metadata": {
        "colab": {
          "base_uri": "https://localhost:8080/"
        },
        "id": "sY97zCarrflo",
        "outputId": "85314850-d1e9-41c8-9dd1-6424e82bfd30"
      },
      "source": [
        "list1=[10,20,30,40,50,60,70]\n",
        "\n",
        "list2=[5,15,25,35,45,55,65,75,85,95]\n",
        "\n",
        "l1=len(list1)\n",
        "l2=len(list2)\n",
        "\n",
        "l=max(l1,l2)\n",
        "list3=[]\n",
        "for item in range(l):\n",
        "    list3.append(list2[item])\n",
        "    if item<=l1-1:\n",
        "        list3.append(list1[item])\n",
        "    \n",
        "print(\"Merged list is: \",list3)"
      ],
      "execution_count": 1,
      "outputs": [
        {
          "output_type": "stream",
          "text": [
            "Merged list is:  [5, 10, 15, 20, 25, 30, 35, 40, 45, 50, 55, 60, 65, 70, 75, 85, 95]\n"
          ],
          "name": "stdout"
        }
      ]
    },
    {
      "cell_type": "code",
      "metadata": {
        "id": "-hNZ5nMzro2y"
      },
      "source": [
        ""
      ],
      "execution_count": null,
      "outputs": []
    }
  ]
}