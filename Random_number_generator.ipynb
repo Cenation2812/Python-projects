{
  "nbformat": 4,
  "nbformat_minor": 0,
  "metadata": {
    "colab": {
      "name": "Random number generator.ipynb",
      "provenance": [],
      "collapsed_sections": []
    },
    "kernelspec": {
      "name": "python3",
      "display_name": "Python 3"
    }
  },
  "cells": [
    {
      "cell_type": "markdown",
      "metadata": {
        "id": "dKr5ao8R0AI2"
      },
      "source": [
        "This is the code for the random number generator used in google"
      ]
    },
    {
      "cell_type": "code",
      "metadata": {
        "id": "-z8HvKngzWvD"
      },
      "source": [
        "lst=[]\r\n",
        "\r\n",
        "for item in range(901):\r\n",
        "  lst.append(item)"
      ],
      "execution_count": 1,
      "outputs": []
    },
    {
      "cell_type": "code",
      "metadata": {
        "id": "PzZ6WdGOz15M"
      },
      "source": [
        "import random"
      ],
      "execution_count": 3,
      "outputs": []
    },
    {
      "cell_type": "code",
      "metadata": {
        "colab": {
          "base_uri": "https://localhost:8080/"
        },
        "id": "gS79hRkQzs5t",
        "outputId": "9b46098f-e30d-4272-ff10-10a3d0ea16e9"
      },
      "source": [
        "random.choice(lst)"
      ],
      "execution_count": 10,
      "outputs": [
        {
          "output_type": "execute_result",
          "data": {
            "text/plain": [
              "319"
            ]
          },
          "metadata": {
            "tags": []
          },
          "execution_count": 10
        }
      ]
    },
    {
      "cell_type": "code",
      "metadata": {
        "id": "rPCuV9VQzxNo"
      },
      "source": [
        ""
      ],
      "execution_count": null,
      "outputs": []
    }
  ]
}