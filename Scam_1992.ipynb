{
  "nbformat": 4,
  "nbformat_minor": 0,
  "metadata": {
    "colab": {
      "name": "Scam 1992.ipynb",
      "provenance": [],
      "collapsed_sections": []
    },
    "kernelspec": {
      "name": "python3",
      "display_name": "Python 3"
    }
  },
  "cells": [
    {
      "cell_type": "markdown",
      "metadata": {
        "id": "x3D6NDPWw8pd"
      },
      "source": [
        "Logic:\r\n",
        "\r\n",
        "1. We will take the inputs of the image names from the user\r\n",
        "2. We are gonna copy those inputs into a list\r\n",
        "3. We are gonna try to find the duplicate images by running a nested for loop\r\n",
        "4. We copy the first element as it is in the new list and then for every other element we check whether the the same image is present in the new list or not?? if yes then do not include that image in the new list.\r\n",
        "5. This is done by maintaining a counter which will be equal to 1 for distinct elements and greater than 1 for duplicate images.\r\n",
        "6. So for images having count greater than 1, we are not gonna append it to the new list. Hence we get the filtered new list."
      ]
    },
    {
      "cell_type": "markdown",
      "metadata": {
        "id": "afQqO_01xQXb"
      },
      "source": [
        "Code implementation is as follows:"
      ]
    },
    {
      "cell_type": "code",
      "metadata": {
        "id": "EZ4t4UJtoKZe"
      },
      "source": [
        "# creating a list to store the images clicked\n",
        " \n",
        "image_set=[]\n",
        " \n",
        "new_image_set=[]"
      ],
      "execution_count": 11,
      "outputs": []
    },
    {
      "cell_type": "code",
      "metadata": {
        "colab": {
          "base_uri": "https://localhost:8080/"
        },
        "id": "OxKGPC1EoPrP",
        "outputId": "ced92e48-587d-4925-bc6e-3dbb1398a3c2"
      },
      "source": [
        "# Enter the image names into the image list\n",
        " \n",
        "num=(int)(input(\"Enter the number of images clicked:\"))\n",
        "turn=(int)(1) \n",
        "flag=(int)(-1) \n",
        "elements=(int)(0)\n",
        "for item in range(num):\n",
        "  name=input(\"Enter the image name:\")\n",
        "  image_set.append(name)\n",
        "for i in range(num):  # Eliminating the duplicate images\n",
        "  count =(int)(1) \n",
        "  for j in range(num):\n",
        "    if image_set[i] == image_set[j]:\n",
        "      temp=image_set[i]\n",
        "  # for item1 in range(num):\n",
        "  if turn == 1:\n",
        "     new_image_set.append(temp) \n",
        "     elements=elements+1\n",
        "     turn=turn+1\n",
        "     # print(new_image_set) \n",
        "  else:\n",
        "    for item1 in range(elements):\n",
        "      flag=0\n",
        "      if temp == new_image_set[item1]:\n",
        "        count=count+1\n",
        "  if count == 1 and flag==0:    \n",
        "    new_image_set.append(temp) # Copying the distinct images in a new set\n",
        "    elements=elements+1\n",
        "    # print(new_image_set)\n",
        "print(\"Image set without any duplicate image is:\") \n",
        "print(new_image_set) # printing the new image set"
      ],
      "execution_count": 12,
      "outputs": [
        {
          "output_type": "stream",
          "text": [
            "Enter the number of images clicked:4\n",
            "Enter the image name:img1\n",
            "Enter the image name:img1\n",
            "Enter the image name:img2\n",
            "Enter the image name:img3\n",
            "Image set without any duplicate image is:\n",
            "['img1', 'img2', 'img3']\n"
          ],
          "name": "stdout"
        }
      ]
    },
    {
      "cell_type": "code",
      "metadata": {
        "id": "nODHPKJAuuPp"
      },
      "source": [
        ""
      ],
      "execution_count": null,
      "outputs": []
    }
  ]
}