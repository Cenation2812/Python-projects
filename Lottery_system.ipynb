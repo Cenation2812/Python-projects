{
  "nbformat": 4,
  "nbformat_minor": 0,
  "metadata": {
    "colab": {
      "name": "Lottery system.ipynb",
      "provenance": [],
      "collapsed_sections": []
    },
    "kernelspec": {
      "name": "python3",
      "display_name": "Python 3"
    }
  },
  "cells": [
    {
      "cell_type": "markdown",
      "metadata": {
        "id": "4HiSWY79TpHX"
      },
      "source": [
        "Lottery System\r\n",
        "\r\n",
        "1.   Using random function\r\n",
        "2.   Using for loop and lists"
      ]
    },
    {
      "cell_type": "code",
      "metadata": {
        "id": "lDkkaUwKUGlb"
      },
      "source": [
        "lst=[]\r\n",
        "\r\n",
        "cond=True"
      ],
      "execution_count": 9,
      "outputs": []
    },
    {
      "cell_type": "code",
      "metadata": {
        "colab": {
          "base_uri": "https://localhost:8080/"
        },
        "id": "7KjqC4MoTn6M",
        "outputId": "41b1cc84-5e45-4db7-e745-23efbb35576b"
      },
      "source": [
        "while cond:\r\n",
        "  decision=input(\"Do you want to enter a name y/n?\")\r\n",
        "  if decision == \"y\":\r\n",
        "    name=input(\"Enter a name:\")\r\n",
        "    lst.append(name)\r\n",
        "  else:\r\n",
        "    break"
      ],
      "execution_count": 14,
      "outputs": [
        {
          "output_type": "stream",
          "text": [
            "Do you want to enter a name y/n?y\n",
            "Enter a name:Rushi\n",
            "Do you want to enter a name y/n?y\n",
            "Enter a name:Rishi\n",
            "Do you want to enter a name y/n?y\n",
            "Enter a name:Vatsal\n",
            "Do you want to enter a name y/n?n\n"
          ],
          "name": "stdout"
        }
      ]
    },
    {
      "cell_type": "code",
      "metadata": {
        "colab": {
          "base_uri": "https://localhost:8080/"
        },
        "id": "PrvktHhSUbzO",
        "outputId": "daf1f7eb-fc55-48ba-de7a-7ec5d74043ee"
      },
      "source": [
        "lst"
      ],
      "execution_count": 16,
      "outputs": [
        {
          "output_type": "execute_result",
          "data": {
            "text/plain": [
              "['Shourjadeep',\n",
              " 'Tanay',\n",
              " 'Shubh',\n",
              " 'Palka',\n",
              " 'Sayli',\n",
              " 'RIcha',\n",
              " 'Rushabh',\n",
              " 'Rajvi',\n",
              " 'Abhishel',\n",
              " 'Vinit',\n",
              " 'Saumil',\n",
              " 'Shruthi',\n",
              " 'Prahashmat',\n",
              " 'Rishab',\n",
              " 'Rushi',\n",
              " 'Rishi',\n",
              " 'Vatsal']"
            ]
          },
          "metadata": {
            "tags": []
          },
          "execution_count": 16
        }
      ]
    },
    {
      "cell_type": "code",
      "metadata": {
        "id": "SPrFBSz5WvH7"
      },
      "source": [
        "import random"
      ],
      "execution_count": 17,
      "outputs": []
    },
    {
      "cell_type": "code",
      "metadata": {
        "colab": {
          "base_uri": "https://localhost:8080/"
        },
        "id": "XuG3uPOJWcZ3",
        "outputId": "1c1aedc8-4170-488a-b4c8-500e5a10a656"
      },
      "source": [
        "print(\"Person winning the lottery is:\")\r\n",
        "\r\n",
        "print(\"Congratulations\",random.choice(lst),\"u won the lottery\")"
      ],
      "execution_count": 20,
      "outputs": [
        {
          "output_type": "stream",
          "text": [
            "Person winning the lottery is:\n",
            "Congratulations Vinit u won the lottery\n"
          ],
          "name": "stdout"
        }
      ]
    },
    {
      "cell_type": "code",
      "metadata": {
        "id": "G_fSOY6cWyqs"
      },
      "source": [
        ""
      ],
      "execution_count": null,
      "outputs": []
    }
  ]
}