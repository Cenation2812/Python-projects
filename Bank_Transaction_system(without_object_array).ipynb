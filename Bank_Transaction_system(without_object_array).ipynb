{
  "nbformat": 4,
  "nbformat_minor": 0,
  "metadata": {
    "colab": {
      "name": "Bank Transaction system(without object array).ipynb",
      "provenance": [],
      "collapsed_sections": []
    },
    "kernelspec": {
      "name": "python3",
      "display_name": "Python 3"
    }
  },
  "cells": [
    {
      "cell_type": "markdown",
      "metadata": {
        "id": "3Z-G6nZCTE8D"
      },
      "source": [
        "Bank transanction system\r\n",
        "\r\n",
        "1.   Inheritance\r\n",
        "2.   OOPM in python\r\n",
        "\r\n"
      ]
    },
    {
      "cell_type": "code",
      "metadata": {
        "id": "I8BPAP1US9oW"
      },
      "source": [
        "class Bank():\r\n",
        "  def input(obj,name,passd):\r\n",
        "    obj.name=name\r\n",
        "    obj.passd=passd\r\n",
        "    print(\"your account in our bank is successfully created!!!\")\r\n",
        "\r\n",
        "class CurrentAccount(Bank):\r\n",
        "  amount=0\r\n",
        "  def check(obj1,obj,name1,passd1):\r\n",
        "    obj1.name1=name1\r\n",
        "    obj1.passd1=passd1\r\n",
        "    if name1 == obj.name and passd1 == obj.passd:\r\n",
        "      obj1.amount=(int)(input(\"Enter the amount in your current account:\"))\r\n",
        "    else:\r\n",
        "      flag=1\r\n",
        "      return flag\r\n",
        "  def details(obj1,name1,passd1):\r\n",
        "    # print(obj1.amount)\r\n",
        "    print(\"Your current account details are:\")\r\n",
        "    print(\"Name: \",name1)\r\n",
        "    print(\"Password: \",passd1)\r\n",
        "    print(\"Balance= \",obj1.amount)\r\n",
        "\r\n",
        "\r\n",
        "class SavingsAccount(Bank):\r\n",
        "  amount1=0\r\n",
        "  def check(obj2,obj,name2,passd2):\r\n",
        "    obj2.name2=name2\r\n",
        "    obj.passd2=passd2\r\n",
        "    if name2 == obj.name and passd2 == obj.passd:\r\n",
        "      obj2.amount1=(int)(input(\"Enter the amount in your savings account:\"))\r\n",
        "    else:\r\n",
        "      flag=1\r\n",
        "      return flag\r\n",
        "  def details(obj2,name2,passd2):\r\n",
        "    # print(obj2.amount1)\r\n",
        "    print(\"Your savings account details are:\")\r\n",
        "    print(\"Name: \",name2)\r\n",
        "    print(\"Password: \",passd2)\r\n",
        "    print(\"Balance= \",obj2.amount1)\r\n",
        "\r\n",
        "\r\n"
      ],
      "execution_count": 36,
      "outputs": []
    },
    {
      "cell_type": "code",
      "metadata": {
        "colab": {
          "base_uri": "https://localhost:8080/"
        },
        "id": "VCWFVhXUbdfG",
        "outputId": "594933ce-c3d9-4c03-cdc1-ec13b2ef2447"
      },
      "source": [
        "cond=True\r\n",
        "\r\n",
        "while cond == True:\r\n",
        "  Ans=input(\"Hey user, welcome to our bank...would you like to perform some functions??\")\r\n",
        "  if Ans == \"yes\":\r\n",
        "    print(\"1.Create account\")\r\n",
        "    print(\"2.enter current account\")\r\n",
        "    print(\"3.enter savings account\")\r\n",
        "    print(\"4.exit\")\r\n",
        "    choice=(int)(input(\"Enter your choice:\"))\r\n",
        "    if choice == 1:\r\n",
        "      name=input(\"Enter your name:\")\r\n",
        "      passd=input(\"Enter the password of your account\")\r\n",
        "      acc=Bank()\r\n",
        "      acc.input(name,passd)\r\n",
        "      print(acc.name)\r\n",
        "      print(acc.passd)\r\n",
        "    elif choice == 2:\r\n",
        "      name1=input(\"Enter your name:\")\r\n",
        "      passd1=input(\"Enter the password of your account\")\r\n",
        "      acc1=CurrentAccount()\r\n",
        "      f=acc1.check(acc,name1,passd1)\r\n",
        "      if f == 1:\r\n",
        "        print(\"Invalid credentials\")\r\n",
        "      else:\r\n",
        "        acc1.details(name1,passd1)\r\n",
        "    elif choice == 3:\r\n",
        "      name2=input(\"Enter your name:\")\r\n",
        "      passd2=input(\"Enter the password of your account\")\r\n",
        "      acc2=SavingsAccount()\r\n",
        "      f=acc2.check(acc,name2,passd2)\r\n",
        "      if f == 1:\r\n",
        "        print(\"Invalid credentials\")\r\n",
        "      else:\r\n",
        "        acc2.details(name2,passd2)\r\n",
        "    else:\r\n",
        "      break\r\n",
        "  else:\r\n",
        "    break"
      ],
      "execution_count": 37,
      "outputs": [
        {
          "output_type": "stream",
          "text": [
            "Hey user, welcome to our bank...would you like to perform some functions??no\n"
          ],
          "name": "stdout"
        }
      ]
    },
    {
      "cell_type": "code",
      "metadata": {
        "id": "zljGH-V3b3rg"
      },
      "source": [
        ""
      ],
      "execution_count": null,
      "outputs": []
    }
  ]
}